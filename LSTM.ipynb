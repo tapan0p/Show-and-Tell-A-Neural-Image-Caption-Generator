{
 "cells": [
  {
   "cell_type": "code",
   "execution_count": 1,
   "metadata": {},
   "outputs": [],
   "source": [
    "import torch \n",
    "import torch.nn as nn\n",
    "import torch.optim as optim"
   ]
  },
  {
   "cell_type": "code",
   "execution_count": 3,
   "metadata": {},
   "outputs": [],
   "source": [
    "class LSTMCell(nn.Module):\n",
    "    def __init__(self,input_dim,hidden_dim):\n",
    "        super().__init__()\n",
    "        # parameter initialization\n",
    "        self.input_dim=input_dim\n",
    "        self.hidden_dim=hidden_dim\n",
    "        # weights\n",
    "        # forget gate\n",
    "        self.w_f = nn.Linear(hidden_dim+input_dim,hidden_dim)\n",
    "        # input gate\n",
    "        self.w_i = nn.Linear(hidden_dim+input_dim,hidden_dim)\n",
    "        #  update state\n",
    "        self.w_c = nn.Linear(hidden_dim+input_dim,hidden_dim)\n",
    "        # output gate\n",
    "        self.w_o = nn.Linear(hidden_dim+input_dim,hidden_dim)\n",
    "        # weight initialization\n",
    "        self.init_weights()\n",
    "        \n",
    "    def init_weights(self):\n",
    "        # Initialization of weights using Xavier\n",
    "        for layer in [self.w_f,self.w_i,self.w_c,self.w_o]:\n",
    "            nn.init.xavier_uniform_(layer.weight)\n",
    "            nn.init.zeros_(layer.bias)\n",
    "\n",
    "    def forward(self,h,x,c):\n",
    "        combined = torch.cat([h,x],dim=-1)\n",
    "        # forget gate\n",
    "        f = torch.sigmoid(self.w_f(combined))\n",
    "        # input gate\n",
    "        i = torch.sigmoid(self.w_i(combined))\n",
    "        # update state\n",
    "        c_cap = torch.tanh(self.w_c(combined))\n",
    "        # forget and input update\n",
    "        c = f*c+i*c_cap\n",
    "        # output gate\n",
    "        o = torch.sigmoid(self.w_o(combined))\n",
    "        h = o*torch.tanh(c)\n",
    "        return h,c"
   ]
  },
  {
   "cell_type": "code",
   "execution_count": null,
   "metadata": {},
   "outputs": [],
   "source": [
    "class LSTMModel(nn.Module):\n",
    "    def __init__(self,input_dim,hidden_dim):\n",
    "        super().__init__()\n",
    "        self.input_dim=input_dim\n",
    "        self.hidden_dim=hidden_dim\n",
    "\n",
    "        # weights\n",
    "\n",
    "\n"
   ]
  }
 ],
 "metadata": {
  "kernelspec": {
   "display_name": "Python 3",
   "language": "python",
   "name": "python3"
  },
  "language_info": {
   "codemirror_mode": {
    "name": "ipython",
    "version": 3
   },
   "file_extension": ".py",
   "mimetype": "text/x-python",
   "name": "python",
   "nbconvert_exporter": "python",
   "pygments_lexer": "ipython3",
   "version": "3.11.7"
  }
 },
 "nbformat": 4,
 "nbformat_minor": 2
}
