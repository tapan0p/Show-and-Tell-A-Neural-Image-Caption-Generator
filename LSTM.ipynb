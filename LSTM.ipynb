{
 "cells": [
  {
   "cell_type": "code",
   "execution_count": 17,
   "metadata": {},
   "outputs": [],
   "source": [
    "import torch \n",
    "import torch.nn as nn\n",
    "import torch.optim as optim\n",
    "import torchvision.models as models"
   ]
  },
  {
   "cell_type": "code",
   "execution_count": 18,
   "metadata": {},
   "outputs": [],
   "source": [
    "class LSTMCell(nn.Module):\n",
    "    def __init__(self,embed_dim,hidden_dim):\n",
    "        super().__init__()\n",
    "        # weights\n",
    "        # forget gate\n",
    "        self.w_f = nn.Linear(hidden_dim+embed_dim,hidden_dim)\n",
    "        # input gate\n",
    "        self.w_i = nn.Linear(hidden_dim+embed_dim,hidden_dim)\n",
    "        #  update state\n",
    "        self.w_c = nn.Linear(hidden_dim+embed_dim,hidden_dim)\n",
    "        # output gate\n",
    "        self.w_o = nn.Linear(hidden_dim+embed_dim,hidden_dim)\n",
    "        # weight initialization\n",
    "        self.init_weights()\n",
    "        \n",
    "    def init_weights(self):\n",
    "        # Initialization of weights using Xavier\n",
    "        for layer in [self.w_f,self.w_i,self.w_c,self.w_o]:\n",
    "            nn.init.xavier_uniform_(layer.weight)\n",
    "            nn.init.zeros_(layer.bias)\n",
    "\n",
    "    def forward(self,x,h,c):\n",
    "        combined = torch.cat([h,x],dim=-1)\n",
    "        # forget gate\n",
    "        f = torch.sigmoid(self.w_f(combined))\n",
    "        # input gate\n",
    "        i = torch.sigmoid(self.w_i(combined))\n",
    "        # update state\n",
    "        c_cap = torch.tanh(self.w_c(combined))\n",
    "        # forget and input update\n",
    "        c = f*c+i*c_cap\n",
    "        # output gate\n",
    "        o = torch.sigmoid(self.w_o(combined))\n",
    "        h = o*torch.tanh(c)\n",
    "        return h,c"
   ]
  },
  {
   "cell_type": "code",
   "execution_count": 24,
   "metadata": {},
   "outputs": [],
   "source": [
    "class LSTMDecoder(nn.Module):\n",
    "    def __init__(self,embed_dim,hidden_dim,vocab_size):\n",
    "        super().__init__()\n",
    "        # weights\n",
    "        self.embedding = nn.Embedding(vocab_size,embed_dim)\n",
    "        self.lstm = LSTMCell(embed_dim,hidden_dim)\n",
    "        self.ff = nn.Linear(hidden_dim,vocab_size)\n",
    "        \n",
    "    def forward(self,X,h,c):\n",
    "        logit_list = []\n",
    "        for x in X:\n",
    "            embed_x = self.embedding(x)\n",
    "            h,c = self.lstm(embed_x,h,c)\n",
    "            logits = self.ff(h)\n",
    "            logit_list.append(logits)\n",
    "            \n",
    "        return torch.stack(logit_list)"
   ]
  },
  {
   "cell_type": "code",
   "execution_count": null,
   "metadata": {},
   "outputs": [],
   "source": [
    "class ResnetEncoder(nn.Module):\n",
    "    def __init__(self,hidden_dim):\n",
    "        super().__init__()\n",
    "        self.base_model = models.resnet50(weights=models.ResNet50_Weights.IMAGENET1K_V1)\n",
    "        for params in self.base_model.parameters():\n",
    "            params.requires_grad=False\n",
    "\n",
    "        self.base_model = nn.Sequential(*list(self.base_model.children())[:-1])\n",
    "        self.fc = nn.Linear(2048,hidden_dim)\n",
    "\n",
    "    def forward(self,x):\n",
    "        x = self.base_model(x)\n",
    "        x = x.view(x.size(0),-1) # (batch,2048)\n",
    "        x = self.fc(x)\n",
    "        return x.squeeze(0)"
   ]
  },
  {
   "cell_type": "code",
   "execution_count": 25,
   "metadata": {},
   "outputs": [],
   "source": [
    "class ImageCaptionModel(nn.Module):\n",
    "    def __init__(self,embed_dim,hidden_dim,vocab_size):\n",
    "        super().__init__()\n",
    "        self.embed_dim = embed_dim\n",
    "        self.hidden_dim = hidden_dim\n",
    "        self.encoder = ResnetEncoder(hidden_dim)\n",
    "        self.decoder = LSTMDecoder(embed_dim,hidden_dim,vocab_size)\n",
    "\n",
    "    def forward(self,img,text_encode): # img -> (1,other dimentions)\n",
    "        encoder_out = self.encoder(img)\n",
    "        c = torch.zeros_like(encoder_out)\n",
    "        decoder_out = self.decoder(text_encode,encoder_out,c)\n",
    "        return decoder_out\n"
   ]
  },
  {
   "cell_type": "code",
   "execution_count": null,
   "metadata": {},
   "outputs": [],
   "source": []
  }
 ],
 "metadata": {
  "kernelspec": {
   "display_name": "Python 3",
   "language": "python",
   "name": "python3"
  },
  "language_info": {
   "codemirror_mode": {
    "name": "ipython",
    "version": 3
   },
   "file_extension": ".py",
   "mimetype": "text/x-python",
   "name": "python",
   "nbconvert_exporter": "python",
   "pygments_lexer": "ipython3",
   "version": "3.11.7"
  }
 },
 "nbformat": 4,
 "nbformat_minor": 2
}
